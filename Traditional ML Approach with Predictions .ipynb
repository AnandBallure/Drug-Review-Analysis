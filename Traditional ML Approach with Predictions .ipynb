{
 "cells": [
  {
   "cell_type": "markdown",
   "id": "13bb20f3",
   "metadata": {},
   "source": [
    "# _Importing Dependencies_"
   ]
  },
  {
   "cell_type": "code",
   "execution_count": 16,
   "id": "0003d9e1",
   "metadata": {},
   "outputs": [],
   "source": [
    "import numpy as np\n",
    "import pandas as pd\n",
    "import matplotlib.pyplot as plt\n",
    "import seaborn as sns\n",
    "\n",
    "from sklearn.preprocessing import QuantileTransformer\n",
    "from sklearn.model_selection import train_test_split, KFold, cross_val_score\n",
    "from sklearn.metrics import mean_squared_error, mean_absolute_error\n",
    "\n",
    "from pycaret.regression import setup, compare_models\n",
    "import optuna\n",
    "\n",
    "from xgboost import XGBRegressor\n",
    "from catboost import CatBoostRegressor\n",
    "from lightgbm import LGBMRegressor\n",
    "from sklearn.ensemble import RandomForestRegressor\n",
    "from sklearn.tree import DecisionTreeRegressor"
   ]
  },
  {
   "cell_type": "markdown",
   "id": "688c5035",
   "metadata": {},
   "source": [
    "## _Import Data_"
   ]
  },
  {
   "cell_type": "code",
   "execution_count": 147,
   "id": "6a25030a",
   "metadata": {},
   "outputs": [],
   "source": [
    "train_final = pd.read_csv('train_final.csv')\n",
    "test_final = pd.read_csv('test_final.csv')\n",
    "\n",
    "X = train_final.drop(['patient_id', 'drug_approved_by_UIC', 'base_score', 'date' , 'effectivity'], axis=1)\n",
    "y = train_final['base_score']\n",
    "\n",
    "X_train, X_test, y_train, y_test = train_test_split(X, y, test_size=0.2, random_state=14)"
   ]
  },
  {
   "cell_type": "markdown",
   "id": "e9e4da38",
   "metadata": {},
   "source": [
    "# _Scaling the Data_"
   ]
  },
  {
   "cell_type": "code",
   "execution_count": 148,
   "id": "18328bdb",
   "metadata": {},
   "outputs": [],
   "source": [
    "QScaler = QuantileTransformer(output_distribution='normal', n_quantiles=1000)"
   ]
  },
  {
   "cell_type": "code",
   "execution_count": 149,
   "id": "8d4835a0",
   "metadata": {},
   "outputs": [],
   "source": [
    "X_train_scaled = X_train.copy()\n",
    "X_test_scaled = X_test.copy()"
   ]
  },
  {
   "cell_type": "code",
   "execution_count": 150,
   "id": "04253506",
   "metadata": {},
   "outputs": [],
   "source": [
    "X_train_scaled['days'] = QScaler.fit_transform(np.array(X_train['days'].values).reshape(-1,1))\n",
    "X_test_scaled['days'] = QScaler.transform(np.array(X_test['days'].values).reshape(-1,1))\n",
    "\n",
    "# X_train_scaled['effectivity'] = QScaler.fit_transform(np.array(X_train['effectivity'].values).reshape(-1,1))\n",
    "# X_test_scaled['effectivity'] = QScaler.transform(np.array(X_test['effectivity'].values).reshape(-1,1))\n",
    "\n",
    "\n",
    "X_train_scaled['number_of_times_prescribed'] = QScaler.fit_transform(np.array(X_train['number_of_times_prescribed'].values).reshape(-1,1))\n",
    "X_test_scaled['number_of_times_prescribed'] = QScaler.transform(np.array(X_test['number_of_times_prescribed'].values).reshape(-1,1))\n",
    "\n",
    "X_train_scaled['effectiveness_rating'] = QScaler.fit_transform(np.array(X_train['effectiveness_rating'].values).reshape(-1,1))\n",
    "X_test_scaled['effectiveness_rating'] = QScaler.transform(np.array(X_test['effectiveness_rating'].values).reshape(-1,1))"
   ]
  },
  {
   "cell_type": "markdown",
   "id": "d7e95f1e",
   "metadata": {},
   "source": [
    "# _Model Selection_"
   ]
  },
  {
   "cell_type": "markdown",
   "id": "8e7a9f18",
   "metadata": {},
   "source": [
    "#### _PyCaret Setup_"
   ]
  },
  {
   "cell_type": "code",
   "execution_count": 10,
   "id": "91520e87",
   "metadata": {
    "scrolled": true
   },
   "outputs": [
    {
     "data": {
      "text/html": [
       "<style type=\"text/css\">\n",
       "#T_737fa_row42_col1 {\n",
       "  background-color: lightgreen;\n",
       "}\n",
       "</style>\n",
       "<table id=\"T_737fa\">\n",
       "  <thead>\n",
       "    <tr>\n",
       "      <th class=\"blank level0\" >&nbsp;</th>\n",
       "      <th id=\"T_737fa_level0_col0\" class=\"col_heading level0 col0\" >Description</th>\n",
       "      <th id=\"T_737fa_level0_col1\" class=\"col_heading level0 col1\" >Value</th>\n",
       "    </tr>\n",
       "  </thead>\n",
       "  <tbody>\n",
       "    <tr>\n",
       "      <th id=\"T_737fa_level0_row0\" class=\"row_heading level0 row0\" >0</th>\n",
       "      <td id=\"T_737fa_row0_col0\" class=\"data row0 col0\" >session_id</td>\n",
       "      <td id=\"T_737fa_row0_col1\" class=\"data row0 col1\" >8905</td>\n",
       "    </tr>\n",
       "    <tr>\n",
       "      <th id=\"T_737fa_level0_row1\" class=\"row_heading level0 row1\" >1</th>\n",
       "      <td id=\"T_737fa_row1_col0\" class=\"data row1 col0\" >Target</td>\n",
       "      <td id=\"T_737fa_row1_col1\" class=\"data row1 col1\" >base_score</td>\n",
       "    </tr>\n",
       "    <tr>\n",
       "      <th id=\"T_737fa_level0_row2\" class=\"row_heading level0 row2\" >2</th>\n",
       "      <td id=\"T_737fa_row2_col0\" class=\"data row2 col0\" >Original Data</td>\n",
       "      <td id=\"T_737fa_row2_col1\" class=\"data row2 col1\" >(25726, 126)</td>\n",
       "    </tr>\n",
       "    <tr>\n",
       "      <th id=\"T_737fa_level0_row3\" class=\"row_heading level0 row3\" >3</th>\n",
       "      <td id=\"T_737fa_row3_col0\" class=\"data row3 col0\" >Missing Values</td>\n",
       "      <td id=\"T_737fa_row3_col1\" class=\"data row3 col1\" >False</td>\n",
       "    </tr>\n",
       "    <tr>\n",
       "      <th id=\"T_737fa_level0_row4\" class=\"row_heading level0 row4\" >4</th>\n",
       "      <td id=\"T_737fa_row4_col0\" class=\"data row4 col0\" >Numeric Features</td>\n",
       "      <td id=\"T_737fa_row4_col1\" class=\"data row4 col1\" >125</td>\n",
       "    </tr>\n",
       "    <tr>\n",
       "      <th id=\"T_737fa_level0_row5\" class=\"row_heading level0 row5\" >5</th>\n",
       "      <td id=\"T_737fa_row5_col0\" class=\"data row5 col0\" >Categorical Features</td>\n",
       "      <td id=\"T_737fa_row5_col1\" class=\"data row5 col1\" >0</td>\n",
       "    </tr>\n",
       "    <tr>\n",
       "      <th id=\"T_737fa_level0_row6\" class=\"row_heading level0 row6\" >6</th>\n",
       "      <td id=\"T_737fa_row6_col0\" class=\"data row6 col0\" >Ordinal Features</td>\n",
       "      <td id=\"T_737fa_row6_col1\" class=\"data row6 col1\" >False</td>\n",
       "    </tr>\n",
       "    <tr>\n",
       "      <th id=\"T_737fa_level0_row7\" class=\"row_heading level0 row7\" >7</th>\n",
       "      <td id=\"T_737fa_row7_col0\" class=\"data row7 col0\" >High Cardinality Features</td>\n",
       "      <td id=\"T_737fa_row7_col1\" class=\"data row7 col1\" >False</td>\n",
       "    </tr>\n",
       "    <tr>\n",
       "      <th id=\"T_737fa_level0_row8\" class=\"row_heading level0 row8\" >8</th>\n",
       "      <td id=\"T_737fa_row8_col0\" class=\"data row8 col0\" >High Cardinality Method</td>\n",
       "      <td id=\"T_737fa_row8_col1\" class=\"data row8 col1\" >None</td>\n",
       "    </tr>\n",
       "    <tr>\n",
       "      <th id=\"T_737fa_level0_row9\" class=\"row_heading level0 row9\" >9</th>\n",
       "      <td id=\"T_737fa_row9_col0\" class=\"data row9 col0\" >Transformed Train Set</td>\n",
       "      <td id=\"T_737fa_row9_col1\" class=\"data row9 col1\" >(18008, 125)</td>\n",
       "    </tr>\n",
       "    <tr>\n",
       "      <th id=\"T_737fa_level0_row10\" class=\"row_heading level0 row10\" >10</th>\n",
       "      <td id=\"T_737fa_row10_col0\" class=\"data row10 col0\" >Transformed Test Set</td>\n",
       "      <td id=\"T_737fa_row10_col1\" class=\"data row10 col1\" >(7718, 125)</td>\n",
       "    </tr>\n",
       "    <tr>\n",
       "      <th id=\"T_737fa_level0_row11\" class=\"row_heading level0 row11\" >11</th>\n",
       "      <td id=\"T_737fa_row11_col0\" class=\"data row11 col0\" >Shuffle Train-Test</td>\n",
       "      <td id=\"T_737fa_row11_col1\" class=\"data row11 col1\" >True</td>\n",
       "    </tr>\n",
       "    <tr>\n",
       "      <th id=\"T_737fa_level0_row12\" class=\"row_heading level0 row12\" >12</th>\n",
       "      <td id=\"T_737fa_row12_col0\" class=\"data row12 col0\" >Stratify Train-Test</td>\n",
       "      <td id=\"T_737fa_row12_col1\" class=\"data row12 col1\" >False</td>\n",
       "    </tr>\n",
       "    <tr>\n",
       "      <th id=\"T_737fa_level0_row13\" class=\"row_heading level0 row13\" >13</th>\n",
       "      <td id=\"T_737fa_row13_col0\" class=\"data row13 col0\" >Fold Generator</td>\n",
       "      <td id=\"T_737fa_row13_col1\" class=\"data row13 col1\" >KFold</td>\n",
       "    </tr>\n",
       "    <tr>\n",
       "      <th id=\"T_737fa_level0_row14\" class=\"row_heading level0 row14\" >14</th>\n",
       "      <td id=\"T_737fa_row14_col0\" class=\"data row14 col0\" >Fold Number</td>\n",
       "      <td id=\"T_737fa_row14_col1\" class=\"data row14 col1\" >10</td>\n",
       "    </tr>\n",
       "    <tr>\n",
       "      <th id=\"T_737fa_level0_row15\" class=\"row_heading level0 row15\" >15</th>\n",
       "      <td id=\"T_737fa_row15_col0\" class=\"data row15 col0\" >CPU Jobs</td>\n",
       "      <td id=\"T_737fa_row15_col1\" class=\"data row15 col1\" >-1</td>\n",
       "    </tr>\n",
       "    <tr>\n",
       "      <th id=\"T_737fa_level0_row16\" class=\"row_heading level0 row16\" >16</th>\n",
       "      <td id=\"T_737fa_row16_col0\" class=\"data row16 col0\" >Use GPU</td>\n",
       "      <td id=\"T_737fa_row16_col1\" class=\"data row16 col1\" >False</td>\n",
       "    </tr>\n",
       "    <tr>\n",
       "      <th id=\"T_737fa_level0_row17\" class=\"row_heading level0 row17\" >17</th>\n",
       "      <td id=\"T_737fa_row17_col0\" class=\"data row17 col0\" >Log Experiment</td>\n",
       "      <td id=\"T_737fa_row17_col1\" class=\"data row17 col1\" >False</td>\n",
       "    </tr>\n",
       "    <tr>\n",
       "      <th id=\"T_737fa_level0_row18\" class=\"row_heading level0 row18\" >18</th>\n",
       "      <td id=\"T_737fa_row18_col0\" class=\"data row18 col0\" >Experiment Name</td>\n",
       "      <td id=\"T_737fa_row18_col1\" class=\"data row18 col1\" >reg-default-name</td>\n",
       "    </tr>\n",
       "    <tr>\n",
       "      <th id=\"T_737fa_level0_row19\" class=\"row_heading level0 row19\" >19</th>\n",
       "      <td id=\"T_737fa_row19_col0\" class=\"data row19 col0\" >USI</td>\n",
       "      <td id=\"T_737fa_row19_col1\" class=\"data row19 col1\" >5b69</td>\n",
       "    </tr>\n",
       "    <tr>\n",
       "      <th id=\"T_737fa_level0_row20\" class=\"row_heading level0 row20\" >20</th>\n",
       "      <td id=\"T_737fa_row20_col0\" class=\"data row20 col0\" >Imputation Type</td>\n",
       "      <td id=\"T_737fa_row20_col1\" class=\"data row20 col1\" >simple</td>\n",
       "    </tr>\n",
       "    <tr>\n",
       "      <th id=\"T_737fa_level0_row21\" class=\"row_heading level0 row21\" >21</th>\n",
       "      <td id=\"T_737fa_row21_col0\" class=\"data row21 col0\" >Iterative Imputation Iteration</td>\n",
       "      <td id=\"T_737fa_row21_col1\" class=\"data row21 col1\" >None</td>\n",
       "    </tr>\n",
       "    <tr>\n",
       "      <th id=\"T_737fa_level0_row22\" class=\"row_heading level0 row22\" >22</th>\n",
       "      <td id=\"T_737fa_row22_col0\" class=\"data row22 col0\" >Numeric Imputer</td>\n",
       "      <td id=\"T_737fa_row22_col1\" class=\"data row22 col1\" >mean</td>\n",
       "    </tr>\n",
       "    <tr>\n",
       "      <th id=\"T_737fa_level0_row23\" class=\"row_heading level0 row23\" >23</th>\n",
       "      <td id=\"T_737fa_row23_col0\" class=\"data row23 col0\" >Iterative Imputation Numeric Model</td>\n",
       "      <td id=\"T_737fa_row23_col1\" class=\"data row23 col1\" >None</td>\n",
       "    </tr>\n",
       "    <tr>\n",
       "      <th id=\"T_737fa_level0_row24\" class=\"row_heading level0 row24\" >24</th>\n",
       "      <td id=\"T_737fa_row24_col0\" class=\"data row24 col0\" >Categorical Imputer</td>\n",
       "      <td id=\"T_737fa_row24_col1\" class=\"data row24 col1\" >constant</td>\n",
       "    </tr>\n",
       "    <tr>\n",
       "      <th id=\"T_737fa_level0_row25\" class=\"row_heading level0 row25\" >25</th>\n",
       "      <td id=\"T_737fa_row25_col0\" class=\"data row25 col0\" >Iterative Imputation Categorical Model</td>\n",
       "      <td id=\"T_737fa_row25_col1\" class=\"data row25 col1\" >None</td>\n",
       "    </tr>\n",
       "    <tr>\n",
       "      <th id=\"T_737fa_level0_row26\" class=\"row_heading level0 row26\" >26</th>\n",
       "      <td id=\"T_737fa_row26_col0\" class=\"data row26 col0\" >Unknown Categoricals Handling</td>\n",
       "      <td id=\"T_737fa_row26_col1\" class=\"data row26 col1\" >least_frequent</td>\n",
       "    </tr>\n",
       "    <tr>\n",
       "      <th id=\"T_737fa_level0_row27\" class=\"row_heading level0 row27\" >27</th>\n",
       "      <td id=\"T_737fa_row27_col0\" class=\"data row27 col0\" >Normalize</td>\n",
       "      <td id=\"T_737fa_row27_col1\" class=\"data row27 col1\" >False</td>\n",
       "    </tr>\n",
       "    <tr>\n",
       "      <th id=\"T_737fa_level0_row28\" class=\"row_heading level0 row28\" >28</th>\n",
       "      <td id=\"T_737fa_row28_col0\" class=\"data row28 col0\" >Normalize Method</td>\n",
       "      <td id=\"T_737fa_row28_col1\" class=\"data row28 col1\" >None</td>\n",
       "    </tr>\n",
       "    <tr>\n",
       "      <th id=\"T_737fa_level0_row29\" class=\"row_heading level0 row29\" >29</th>\n",
       "      <td id=\"T_737fa_row29_col0\" class=\"data row29 col0\" >Transformation</td>\n",
       "      <td id=\"T_737fa_row29_col1\" class=\"data row29 col1\" >False</td>\n",
       "    </tr>\n",
       "    <tr>\n",
       "      <th id=\"T_737fa_level0_row30\" class=\"row_heading level0 row30\" >30</th>\n",
       "      <td id=\"T_737fa_row30_col0\" class=\"data row30 col0\" >Transformation Method</td>\n",
       "      <td id=\"T_737fa_row30_col1\" class=\"data row30 col1\" >None</td>\n",
       "    </tr>\n",
       "    <tr>\n",
       "      <th id=\"T_737fa_level0_row31\" class=\"row_heading level0 row31\" >31</th>\n",
       "      <td id=\"T_737fa_row31_col0\" class=\"data row31 col0\" >PCA</td>\n",
       "      <td id=\"T_737fa_row31_col1\" class=\"data row31 col1\" >False</td>\n",
       "    </tr>\n",
       "    <tr>\n",
       "      <th id=\"T_737fa_level0_row32\" class=\"row_heading level0 row32\" >32</th>\n",
       "      <td id=\"T_737fa_row32_col0\" class=\"data row32 col0\" >PCA Method</td>\n",
       "      <td id=\"T_737fa_row32_col1\" class=\"data row32 col1\" >None</td>\n",
       "    </tr>\n",
       "    <tr>\n",
       "      <th id=\"T_737fa_level0_row33\" class=\"row_heading level0 row33\" >33</th>\n",
       "      <td id=\"T_737fa_row33_col0\" class=\"data row33 col0\" >PCA Components</td>\n",
       "      <td id=\"T_737fa_row33_col1\" class=\"data row33 col1\" >None</td>\n",
       "    </tr>\n",
       "    <tr>\n",
       "      <th id=\"T_737fa_level0_row34\" class=\"row_heading level0 row34\" >34</th>\n",
       "      <td id=\"T_737fa_row34_col0\" class=\"data row34 col0\" >Ignore Low Variance</td>\n",
       "      <td id=\"T_737fa_row34_col1\" class=\"data row34 col1\" >False</td>\n",
       "    </tr>\n",
       "    <tr>\n",
       "      <th id=\"T_737fa_level0_row35\" class=\"row_heading level0 row35\" >35</th>\n",
       "      <td id=\"T_737fa_row35_col0\" class=\"data row35 col0\" >Combine Rare Levels</td>\n",
       "      <td id=\"T_737fa_row35_col1\" class=\"data row35 col1\" >False</td>\n",
       "    </tr>\n",
       "    <tr>\n",
       "      <th id=\"T_737fa_level0_row36\" class=\"row_heading level0 row36\" >36</th>\n",
       "      <td id=\"T_737fa_row36_col0\" class=\"data row36 col0\" >Rare Level Threshold</td>\n",
       "      <td id=\"T_737fa_row36_col1\" class=\"data row36 col1\" >None</td>\n",
       "    </tr>\n",
       "    <tr>\n",
       "      <th id=\"T_737fa_level0_row37\" class=\"row_heading level0 row37\" >37</th>\n",
       "      <td id=\"T_737fa_row37_col0\" class=\"data row37 col0\" >Numeric Binning</td>\n",
       "      <td id=\"T_737fa_row37_col1\" class=\"data row37 col1\" >False</td>\n",
       "    </tr>\n",
       "    <tr>\n",
       "      <th id=\"T_737fa_level0_row38\" class=\"row_heading level0 row38\" >38</th>\n",
       "      <td id=\"T_737fa_row38_col0\" class=\"data row38 col0\" >Remove Outliers</td>\n",
       "      <td id=\"T_737fa_row38_col1\" class=\"data row38 col1\" >False</td>\n",
       "    </tr>\n",
       "    <tr>\n",
       "      <th id=\"T_737fa_level0_row39\" class=\"row_heading level0 row39\" >39</th>\n",
       "      <td id=\"T_737fa_row39_col0\" class=\"data row39 col0\" >Outliers Threshold</td>\n",
       "      <td id=\"T_737fa_row39_col1\" class=\"data row39 col1\" >None</td>\n",
       "    </tr>\n",
       "    <tr>\n",
       "      <th id=\"T_737fa_level0_row40\" class=\"row_heading level0 row40\" >40</th>\n",
       "      <td id=\"T_737fa_row40_col0\" class=\"data row40 col0\" >Remove Multicollinearity</td>\n",
       "      <td id=\"T_737fa_row40_col1\" class=\"data row40 col1\" >False</td>\n",
       "    </tr>\n",
       "    <tr>\n",
       "      <th id=\"T_737fa_level0_row41\" class=\"row_heading level0 row41\" >41</th>\n",
       "      <td id=\"T_737fa_row41_col0\" class=\"data row41 col0\" >Multicollinearity Threshold</td>\n",
       "      <td id=\"T_737fa_row41_col1\" class=\"data row41 col1\" >None</td>\n",
       "    </tr>\n",
       "    <tr>\n",
       "      <th id=\"T_737fa_level0_row42\" class=\"row_heading level0 row42\" >42</th>\n",
       "      <td id=\"T_737fa_row42_col0\" class=\"data row42 col0\" >Remove Perfect Collinearity</td>\n",
       "      <td id=\"T_737fa_row42_col1\" class=\"data row42 col1\" >True</td>\n",
       "    </tr>\n",
       "    <tr>\n",
       "      <th id=\"T_737fa_level0_row43\" class=\"row_heading level0 row43\" >43</th>\n",
       "      <td id=\"T_737fa_row43_col0\" class=\"data row43 col0\" >Clustering</td>\n",
       "      <td id=\"T_737fa_row43_col1\" class=\"data row43 col1\" >False</td>\n",
       "    </tr>\n",
       "    <tr>\n",
       "      <th id=\"T_737fa_level0_row44\" class=\"row_heading level0 row44\" >44</th>\n",
       "      <td id=\"T_737fa_row44_col0\" class=\"data row44 col0\" >Clustering Iteration</td>\n",
       "      <td id=\"T_737fa_row44_col1\" class=\"data row44 col1\" >None</td>\n",
       "    </tr>\n",
       "    <tr>\n",
       "      <th id=\"T_737fa_level0_row45\" class=\"row_heading level0 row45\" >45</th>\n",
       "      <td id=\"T_737fa_row45_col0\" class=\"data row45 col0\" >Polynomial Features</td>\n",
       "      <td id=\"T_737fa_row45_col1\" class=\"data row45 col1\" >False</td>\n",
       "    </tr>\n",
       "    <tr>\n",
       "      <th id=\"T_737fa_level0_row46\" class=\"row_heading level0 row46\" >46</th>\n",
       "      <td id=\"T_737fa_row46_col0\" class=\"data row46 col0\" >Polynomial Degree</td>\n",
       "      <td id=\"T_737fa_row46_col1\" class=\"data row46 col1\" >None</td>\n",
       "    </tr>\n",
       "    <tr>\n",
       "      <th id=\"T_737fa_level0_row47\" class=\"row_heading level0 row47\" >47</th>\n",
       "      <td id=\"T_737fa_row47_col0\" class=\"data row47 col0\" >Trignometry Features</td>\n",
       "      <td id=\"T_737fa_row47_col1\" class=\"data row47 col1\" >False</td>\n",
       "    </tr>\n",
       "    <tr>\n",
       "      <th id=\"T_737fa_level0_row48\" class=\"row_heading level0 row48\" >48</th>\n",
       "      <td id=\"T_737fa_row48_col0\" class=\"data row48 col0\" >Polynomial Threshold</td>\n",
       "      <td id=\"T_737fa_row48_col1\" class=\"data row48 col1\" >None</td>\n",
       "    </tr>\n",
       "    <tr>\n",
       "      <th id=\"T_737fa_level0_row49\" class=\"row_heading level0 row49\" >49</th>\n",
       "      <td id=\"T_737fa_row49_col0\" class=\"data row49 col0\" >Group Features</td>\n",
       "      <td id=\"T_737fa_row49_col1\" class=\"data row49 col1\" >False</td>\n",
       "    </tr>\n",
       "    <tr>\n",
       "      <th id=\"T_737fa_level0_row50\" class=\"row_heading level0 row50\" >50</th>\n",
       "      <td id=\"T_737fa_row50_col0\" class=\"data row50 col0\" >Feature Selection</td>\n",
       "      <td id=\"T_737fa_row50_col1\" class=\"data row50 col1\" >False</td>\n",
       "    </tr>\n",
       "    <tr>\n",
       "      <th id=\"T_737fa_level0_row51\" class=\"row_heading level0 row51\" >51</th>\n",
       "      <td id=\"T_737fa_row51_col0\" class=\"data row51 col0\" >Feature Selection Method</td>\n",
       "      <td id=\"T_737fa_row51_col1\" class=\"data row51 col1\" >classic</td>\n",
       "    </tr>\n",
       "    <tr>\n",
       "      <th id=\"T_737fa_level0_row52\" class=\"row_heading level0 row52\" >52</th>\n",
       "      <td id=\"T_737fa_row52_col0\" class=\"data row52 col0\" >Features Selection Threshold</td>\n",
       "      <td id=\"T_737fa_row52_col1\" class=\"data row52 col1\" >None</td>\n",
       "    </tr>\n",
       "    <tr>\n",
       "      <th id=\"T_737fa_level0_row53\" class=\"row_heading level0 row53\" >53</th>\n",
       "      <td id=\"T_737fa_row53_col0\" class=\"data row53 col0\" >Feature Interaction</td>\n",
       "      <td id=\"T_737fa_row53_col1\" class=\"data row53 col1\" >False</td>\n",
       "    </tr>\n",
       "    <tr>\n",
       "      <th id=\"T_737fa_level0_row54\" class=\"row_heading level0 row54\" >54</th>\n",
       "      <td id=\"T_737fa_row54_col0\" class=\"data row54 col0\" >Feature Ratio</td>\n",
       "      <td id=\"T_737fa_row54_col1\" class=\"data row54 col1\" >False</td>\n",
       "    </tr>\n",
       "    <tr>\n",
       "      <th id=\"T_737fa_level0_row55\" class=\"row_heading level0 row55\" >55</th>\n",
       "      <td id=\"T_737fa_row55_col0\" class=\"data row55 col0\" >Interaction Threshold</td>\n",
       "      <td id=\"T_737fa_row55_col1\" class=\"data row55 col1\" >None</td>\n",
       "    </tr>\n",
       "    <tr>\n",
       "      <th id=\"T_737fa_level0_row56\" class=\"row_heading level0 row56\" >56</th>\n",
       "      <td id=\"T_737fa_row56_col0\" class=\"data row56 col0\" >Transform Target</td>\n",
       "      <td id=\"T_737fa_row56_col1\" class=\"data row56 col1\" >False</td>\n",
       "    </tr>\n",
       "    <tr>\n",
       "      <th id=\"T_737fa_level0_row57\" class=\"row_heading level0 row57\" >57</th>\n",
       "      <td id=\"T_737fa_row57_col0\" class=\"data row57 col0\" >Transform Target Method</td>\n",
       "      <td id=\"T_737fa_row57_col1\" class=\"data row57 col1\" >box-cox</td>\n",
       "    </tr>\n",
       "  </tbody>\n",
       "</table>\n"
      ],
      "text/plain": [
       "<pandas.io.formats.style.Styler at 0x7f970edd4bb0>"
      ]
     },
     "metadata": {},
     "output_type": "display_data"
    }
   ],
   "source": [
    "_ = setup(data=pd.concat([X_train_scaled, y_train], axis=1), target='base_score')"
   ]
  },
  {
   "cell_type": "markdown",
   "id": "e28061d5",
   "metadata": {},
   "source": [
    "#### _Comparing Models_"
   ]
  },
  {
   "cell_type": "code",
   "execution_count": 11,
   "id": "9c56369b",
   "metadata": {},
   "outputs": [
    {
     "data": {
      "text/html": [
       "<style type=\"text/css\">\n",
       "#T_f0be9 th {\n",
       "  text-align: left;\n",
       "}\n",
       "#T_f0be9_row0_col0, #T_f0be9_row1_col0, #T_f0be9_row1_col1, #T_f0be9_row1_col2, #T_f0be9_row1_col3, #T_f0be9_row1_col4, #T_f0be9_row1_col5, #T_f0be9_row1_col6, #T_f0be9_row2_col0, #T_f0be9_row2_col1, #T_f0be9_row2_col2, #T_f0be9_row2_col3, #T_f0be9_row2_col4, #T_f0be9_row2_col5, #T_f0be9_row2_col6, #T_f0be9_row3_col0, #T_f0be9_row3_col1, #T_f0be9_row3_col2, #T_f0be9_row3_col3, #T_f0be9_row3_col4, #T_f0be9_row3_col5, #T_f0be9_row3_col6, #T_f0be9_row4_col0, #T_f0be9_row4_col1, #T_f0be9_row4_col2, #T_f0be9_row4_col3, #T_f0be9_row4_col4, #T_f0be9_row4_col5, #T_f0be9_row4_col6, #T_f0be9_row5_col0, #T_f0be9_row5_col1, #T_f0be9_row5_col2, #T_f0be9_row5_col3, #T_f0be9_row5_col4, #T_f0be9_row5_col5, #T_f0be9_row5_col6, #T_f0be9_row6_col0, #T_f0be9_row6_col1, #T_f0be9_row6_col2, #T_f0be9_row6_col3, #T_f0be9_row6_col4, #T_f0be9_row6_col5, #T_f0be9_row6_col6, #T_f0be9_row7_col0, #T_f0be9_row7_col1, #T_f0be9_row7_col2, #T_f0be9_row7_col3, #T_f0be9_row7_col4, #T_f0be9_row7_col5, #T_f0be9_row7_col6, #T_f0be9_row8_col0, #T_f0be9_row8_col1, #T_f0be9_row8_col2, #T_f0be9_row8_col3, #T_f0be9_row8_col4, #T_f0be9_row8_col5, #T_f0be9_row8_col6, #T_f0be9_row9_col0, #T_f0be9_row9_col1, #T_f0be9_row9_col2, #T_f0be9_row9_col3, #T_f0be9_row9_col4, #T_f0be9_row9_col5, #T_f0be9_row9_col6, #T_f0be9_row10_col0, #T_f0be9_row10_col1, #T_f0be9_row10_col2, #T_f0be9_row10_col3, #T_f0be9_row10_col4, #T_f0be9_row10_col5, #T_f0be9_row10_col6, #T_f0be9_row11_col0, #T_f0be9_row11_col1, #T_f0be9_row11_col2, #T_f0be9_row11_col3, #T_f0be9_row11_col4, #T_f0be9_row11_col5, #T_f0be9_row11_col6, #T_f0be9_row12_col0, #T_f0be9_row12_col1, #T_f0be9_row12_col2, #T_f0be9_row12_col3, #T_f0be9_row12_col4, #T_f0be9_row12_col5, #T_f0be9_row12_col6, #T_f0be9_row13_col0, #T_f0be9_row13_col1, #T_f0be9_row13_col2, #T_f0be9_row13_col3, #T_f0be9_row13_col4, #T_f0be9_row13_col5, #T_f0be9_row13_col6, #T_f0be9_row14_col0, #T_f0be9_row14_col1, #T_f0be9_row14_col2, #T_f0be9_row14_col3, #T_f0be9_row14_col4, #T_f0be9_row14_col5, #T_f0be9_row14_col6, #T_f0be9_row15_col0, #T_f0be9_row15_col1, #T_f0be9_row15_col2, #T_f0be9_row15_col3, #T_f0be9_row15_col4, #T_f0be9_row15_col5, #T_f0be9_row15_col6, #T_f0be9_row16_col0, #T_f0be9_row16_col1, #T_f0be9_row16_col2, #T_f0be9_row16_col3, #T_f0be9_row16_col4, #T_f0be9_row16_col5, #T_f0be9_row16_col6, #T_f0be9_row17_col0, #T_f0be9_row17_col1, #T_f0be9_row17_col2, #T_f0be9_row17_col3, #T_f0be9_row17_col4, #T_f0be9_row17_col5, #T_f0be9_row17_col6, #T_f0be9_row18_col0, #T_f0be9_row18_col1, #T_f0be9_row18_col2, #T_f0be9_row18_col3, #T_f0be9_row18_col4, #T_f0be9_row18_col5, #T_f0be9_row18_col6 {\n",
       "  text-align: left;\n",
       "}\n",
       "#T_f0be9_row0_col1, #T_f0be9_row0_col2, #T_f0be9_row0_col3, #T_f0be9_row0_col4, #T_f0be9_row0_col5, #T_f0be9_row0_col6 {\n",
       "  text-align: left;\n",
       "  background-color: yellow;\n",
       "}\n",
       "#T_f0be9_row0_col7, #T_f0be9_row1_col7, #T_f0be9_row2_col7, #T_f0be9_row3_col7, #T_f0be9_row4_col7, #T_f0be9_row5_col7, #T_f0be9_row6_col7, #T_f0be9_row7_col7, #T_f0be9_row8_col7, #T_f0be9_row9_col7, #T_f0be9_row10_col7, #T_f0be9_row11_col7, #T_f0be9_row12_col7, #T_f0be9_row13_col7, #T_f0be9_row14_col7, #T_f0be9_row15_col7, #T_f0be9_row16_col7, #T_f0be9_row18_col7 {\n",
       "  text-align: left;\n",
       "  background-color: lightgrey;\n",
       "}\n",
       "#T_f0be9_row17_col7 {\n",
       "  text-align: left;\n",
       "  background-color: yellow;\n",
       "  background-color: lightgrey;\n",
       "}\n",
       "</style>\n",
       "<table id=\"T_f0be9\">\n",
       "  <thead>\n",
       "    <tr>\n",
       "      <th class=\"blank level0\" >&nbsp;</th>\n",
       "      <th id=\"T_f0be9_level0_col0\" class=\"col_heading level0 col0\" >Model</th>\n",
       "      <th id=\"T_f0be9_level0_col1\" class=\"col_heading level0 col1\" >MAE</th>\n",
       "      <th id=\"T_f0be9_level0_col2\" class=\"col_heading level0 col2\" >MSE</th>\n",
       "      <th id=\"T_f0be9_level0_col3\" class=\"col_heading level0 col3\" >RMSE</th>\n",
       "      <th id=\"T_f0be9_level0_col4\" class=\"col_heading level0 col4\" >R2</th>\n",
       "      <th id=\"T_f0be9_level0_col5\" class=\"col_heading level0 col5\" >RMSLE</th>\n",
       "      <th id=\"T_f0be9_level0_col6\" class=\"col_heading level0 col6\" >MAPE</th>\n",
       "      <th id=\"T_f0be9_level0_col7\" class=\"col_heading level0 col7\" >TT (Sec)</th>\n",
       "    </tr>\n",
       "  </thead>\n",
       "  <tbody>\n",
       "    <tr>\n",
       "      <th id=\"T_f0be9_level0_row0\" class=\"row_heading level0 row0\" >xgboost</th>\n",
       "      <td id=\"T_f0be9_row0_col0\" class=\"data row0 col0\" >Extreme Gradient Boosting</td>\n",
       "      <td id=\"T_f0be9_row0_col1\" class=\"data row0 col1\" >0.0841</td>\n",
       "      <td id=\"T_f0be9_row0_col2\" class=\"data row0 col2\" >0.0369</td>\n",
       "      <td id=\"T_f0be9_row0_col3\" class=\"data row0 col3\" >0.1916</td>\n",
       "      <td id=\"T_f0be9_row0_col4\" class=\"data row0 col4\" >0.9852</td>\n",
       "      <td id=\"T_f0be9_row0_col5\" class=\"data row0 col5\" >0.0365</td>\n",
       "      <td id=\"T_f0be9_row0_col6\" class=\"data row0 col6\" >0.0176</td>\n",
       "      <td id=\"T_f0be9_row0_col7\" class=\"data row0 col7\" >1.8050</td>\n",
       "    </tr>\n",
       "    <tr>\n",
       "      <th id=\"T_f0be9_level0_row1\" class=\"row_heading level0 row1\" >catboost</th>\n",
       "      <td id=\"T_f0be9_row1_col0\" class=\"data row1 col0\" >CatBoost Regressor</td>\n",
       "      <td id=\"T_f0be9_row1_col1\" class=\"data row1 col1\" >0.0992</td>\n",
       "      <td id=\"T_f0be9_row1_col2\" class=\"data row1 col2\" >0.0395</td>\n",
       "      <td id=\"T_f0be9_row1_col3\" class=\"data row1 col3\" >0.1986</td>\n",
       "      <td id=\"T_f0be9_row1_col4\" class=\"data row1 col4\" >0.9842</td>\n",
       "      <td id=\"T_f0be9_row1_col5\" class=\"data row1 col5\" >0.0384</td>\n",
       "      <td id=\"T_f0be9_row1_col6\" class=\"data row1 col6\" >0.0210</td>\n",
       "      <td id=\"T_f0be9_row1_col7\" class=\"data row1 col7\" >18.8450</td>\n",
       "    </tr>\n",
       "    <tr>\n",
       "      <th id=\"T_f0be9_level0_row2\" class=\"row_heading level0 row2\" >lightgbm</th>\n",
       "      <td id=\"T_f0be9_row2_col0\" class=\"data row2 col0\" >Light Gradient Boosting Machine</td>\n",
       "      <td id=\"T_f0be9_row2_col1\" class=\"data row2 col1\" >0.1338</td>\n",
       "      <td id=\"T_f0be9_row2_col2\" class=\"data row2 col2\" >0.0614</td>\n",
       "      <td id=\"T_f0be9_row2_col3\" class=\"data row2 col3\" >0.2473</td>\n",
       "      <td id=\"T_f0be9_row2_col4\" class=\"data row2 col4\" >0.9755</td>\n",
       "      <td id=\"T_f0be9_row2_col5\" class=\"data row2 col5\" >0.0445</td>\n",
       "      <td id=\"T_f0be9_row2_col6\" class=\"data row2 col6\" >0.0263</td>\n",
       "      <td id=\"T_f0be9_row2_col7\" class=\"data row2 col7\" >0.4520</td>\n",
       "    </tr>\n",
       "    <tr>\n",
       "      <th id=\"T_f0be9_level0_row3\" class=\"row_heading level0 row3\" >rf</th>\n",
       "      <td id=\"T_f0be9_row3_col0\" class=\"data row3 col0\" >Random Forest Regressor</td>\n",
       "      <td id=\"T_f0be9_row3_col1\" class=\"data row3 col1\" >0.1670</td>\n",
       "      <td id=\"T_f0be9_row3_col2\" class=\"data row3 col2\" >0.2052</td>\n",
       "      <td id=\"T_f0be9_row3_col3\" class=\"data row3 col3\" >0.4525</td>\n",
       "      <td id=\"T_f0be9_row3_col4\" class=\"data row3 col4\" >0.9179</td>\n",
       "      <td id=\"T_f0be9_row3_col5\" class=\"data row3 col5\" >0.0768</td>\n",
       "      <td id=\"T_f0be9_row3_col6\" class=\"data row3 col6\" >0.0340</td>\n",
       "      <td id=\"T_f0be9_row3_col7\" class=\"data row3 col7\" >9.4120</td>\n",
       "    </tr>\n",
       "    <tr>\n",
       "      <th id=\"T_f0be9_level0_row4\" class=\"row_heading level0 row4\" >dt</th>\n",
       "      <td id=\"T_f0be9_row4_col0\" class=\"data row4 col0\" >Decision Tree Regressor</td>\n",
       "      <td id=\"T_f0be9_row4_col1\" class=\"data row4 col1\" >0.1258</td>\n",
       "      <td id=\"T_f0be9_row4_col2\" class=\"data row4 col2\" >0.2559</td>\n",
       "      <td id=\"T_f0be9_row4_col3\" class=\"data row4 col3\" >0.5052</td>\n",
       "      <td id=\"T_f0be9_row4_col4\" class=\"data row4 col4\" >0.8975</td>\n",
       "      <td id=\"T_f0be9_row4_col5\" class=\"data row4 col5\" >0.0833</td>\n",
       "      <td id=\"T_f0be9_row4_col6\" class=\"data row4 col6\" >0.0242</td>\n",
       "      <td id=\"T_f0be9_row4_col7\" class=\"data row4 col7\" >0.1650</td>\n",
       "    </tr>\n",
       "    <tr>\n",
       "      <th id=\"T_f0be9_level0_row5\" class=\"row_heading level0 row5\" >gbr</th>\n",
       "      <td id=\"T_f0be9_row5_col0\" class=\"data row5 col0\" >Gradient Boosting Regressor</td>\n",
       "      <td id=\"T_f0be9_row5_col1\" class=\"data row5 col1\" >0.3580</td>\n",
       "      <td id=\"T_f0be9_row5_col2\" class=\"data row5 col2\" >0.3039</td>\n",
       "      <td id=\"T_f0be9_row5_col3\" class=\"data row5 col3\" >0.5511</td>\n",
       "      <td id=\"T_f0be9_row5_col4\" class=\"data row5 col4\" >0.8783</td>\n",
       "      <td id=\"T_f0be9_row5_col5\" class=\"data row5 col5\" >0.0960</td>\n",
       "      <td id=\"T_f0be9_row5_col6\" class=\"data row5 col6\" >0.0718</td>\n",
       "      <td id=\"T_f0be9_row5_col7\" class=\"data row5 col7\" >3.3150</td>\n",
       "    </tr>\n",
       "    <tr>\n",
       "      <th id=\"T_f0be9_level0_row6\" class=\"row_heading level0 row6\" >et</th>\n",
       "      <td id=\"T_f0be9_row6_col0\" class=\"data row6 col0\" >Extra Trees Regressor</td>\n",
       "      <td id=\"T_f0be9_row6_col1\" class=\"data row6 col1\" >0.6801</td>\n",
       "      <td id=\"T_f0be9_row6_col2\" class=\"data row6 col2\" >0.8373</td>\n",
       "      <td id=\"T_f0be9_row6_col3\" class=\"data row6 col3\" >0.9149</td>\n",
       "      <td id=\"T_f0be9_row6_col4\" class=\"data row6 col4\" >0.6645</td>\n",
       "      <td id=\"T_f0be9_row6_col5\" class=\"data row6 col5\" >0.1432</td>\n",
       "      <td id=\"T_f0be9_row6_col6\" class=\"data row6 col6\" >0.1229</td>\n",
       "      <td id=\"T_f0be9_row6_col7\" class=\"data row6 col7\" >5.0710</td>\n",
       "    </tr>\n",
       "    <tr>\n",
       "      <th id=\"T_f0be9_level0_row7\" class=\"row_heading level0 row7\" >ada</th>\n",
       "      <td id=\"T_f0be9_row7_col0\" class=\"data row7 col0\" >AdaBoost Regressor</td>\n",
       "      <td id=\"T_f0be9_row7_col1\" class=\"data row7 col1\" >0.9786</td>\n",
       "      <td id=\"T_f0be9_row7_col2\" class=\"data row7 col2\" >1.2896</td>\n",
       "      <td id=\"T_f0be9_row7_col3\" class=\"data row7 col3\" >1.1356</td>\n",
       "      <td id=\"T_f0be9_row7_col4\" class=\"data row7 col4\" >0.4834</td>\n",
       "      <td id=\"T_f0be9_row7_col5\" class=\"data row7 col5\" >0.1782</td>\n",
       "      <td id=\"T_f0be9_row7_col6\" class=\"data row7 col6\" >0.1789</td>\n",
       "      <td id=\"T_f0be9_row7_col7\" class=\"data row7 col7\" >0.7400</td>\n",
       "    </tr>\n",
       "    <tr>\n",
       "      <th id=\"T_f0be9_level0_row8\" class=\"row_heading level0 row8\" >knn</th>\n",
       "      <td id=\"T_f0be9_row8_col0\" class=\"data row8 col0\" >K Neighbors Regressor</td>\n",
       "      <td id=\"T_f0be9_row8_col1\" class=\"data row8 col1\" >0.9957</td>\n",
       "      <td id=\"T_f0be9_row8_col2\" class=\"data row8 col2\" >1.5742</td>\n",
       "      <td id=\"T_f0be9_row8_col3\" class=\"data row8 col3\" >1.2545</td>\n",
       "      <td id=\"T_f0be9_row8_col4\" class=\"data row8 col4\" >0.3695</td>\n",
       "      <td id=\"T_f0be9_row8_col5\" class=\"data row8 col5\" >0.1990</td>\n",
       "      <td id=\"T_f0be9_row8_col6\" class=\"data row8 col6\" >0.1912</td>\n",
       "      <td id=\"T_f0be9_row8_col7\" class=\"data row8 col7\" >0.1250</td>\n",
       "    </tr>\n",
       "    <tr>\n",
       "      <th id=\"T_f0be9_level0_row9\" class=\"row_heading level0 row9\" >br</th>\n",
       "      <td id=\"T_f0be9_row9_col0\" class=\"data row9 col0\" >Bayesian Ridge</td>\n",
       "      <td id=\"T_f0be9_row9_col1\" class=\"data row9 col1\" >1.0882</td>\n",
       "      <td id=\"T_f0be9_row9_col2\" class=\"data row9 col2\" >1.8816</td>\n",
       "      <td id=\"T_f0be9_row9_col3\" class=\"data row9 col3\" >1.3714</td>\n",
       "      <td id=\"T_f0be9_row9_col4\" class=\"data row9 col4\" >0.2470</td>\n",
       "      <td id=\"T_f0be9_row9_col5\" class=\"data row9 col5\" >0.2197</td>\n",
       "      <td id=\"T_f0be9_row9_col6\" class=\"data row9 col6\" >0.2208</td>\n",
       "      <td id=\"T_f0be9_row9_col7\" class=\"data row9 col7\" >0.2620</td>\n",
       "    </tr>\n",
       "    <tr>\n",
       "      <th id=\"T_f0be9_level0_row10\" class=\"row_heading level0 row10\" >ridge</th>\n",
       "      <td id=\"T_f0be9_row10_col0\" class=\"data row10 col0\" >Ridge Regression</td>\n",
       "      <td id=\"T_f0be9_row10_col1\" class=\"data row10 col1\" >1.0895</td>\n",
       "      <td id=\"T_f0be9_row10_col2\" class=\"data row10 col2\" >1.8872</td>\n",
       "      <td id=\"T_f0be9_row10_col3\" class=\"data row10 col3\" >1.3735</td>\n",
       "      <td id=\"T_f0be9_row10_col4\" class=\"data row10 col4\" >0.2448</td>\n",
       "      <td id=\"T_f0be9_row10_col5\" class=\"data row10 col5\" >0.2198</td>\n",
       "      <td id=\"T_f0be9_row10_col6\" class=\"data row10 col6\" >0.2209</td>\n",
       "      <td id=\"T_f0be9_row10_col7\" class=\"data row10 col7\" >0.0180</td>\n",
       "    </tr>\n",
       "    <tr>\n",
       "      <th id=\"T_f0be9_level0_row11\" class=\"row_heading level0 row11\" >lr</th>\n",
       "      <td id=\"T_f0be9_row11_col0\" class=\"data row11 col0\" >Linear Regression</td>\n",
       "      <td id=\"T_f0be9_row11_col1\" class=\"data row11 col1\" >1.0900</td>\n",
       "      <td id=\"T_f0be9_row11_col2\" class=\"data row11 col2\" >1.8887</td>\n",
       "      <td id=\"T_f0be9_row11_col3\" class=\"data row11 col3\" >1.3740</td>\n",
       "      <td id=\"T_f0be9_row11_col4\" class=\"data row11 col4\" >0.2442</td>\n",
       "      <td id=\"T_f0be9_row11_col5\" class=\"data row11 col5\" >0.2199</td>\n",
       "      <td id=\"T_f0be9_row11_col6\" class=\"data row11 col6\" >0.2210</td>\n",
       "      <td id=\"T_f0be9_row11_col7\" class=\"data row11 col7\" >0.2600</td>\n",
       "    </tr>\n",
       "    <tr>\n",
       "      <th id=\"T_f0be9_level0_row12\" class=\"row_heading level0 row12\" >omp</th>\n",
       "      <td id=\"T_f0be9_row12_col0\" class=\"data row12 col0\" >Orthogonal Matching Pursuit</td>\n",
       "      <td id=\"T_f0be9_row12_col1\" class=\"data row12 col1\" >1.0908</td>\n",
       "      <td id=\"T_f0be9_row12_col2\" class=\"data row12 col2\" >1.8899</td>\n",
       "      <td id=\"T_f0be9_row12_col3\" class=\"data row12 col3\" >1.3745</td>\n",
       "      <td id=\"T_f0be9_row12_col4\" class=\"data row12 col4\" >0.2435</td>\n",
       "      <td id=\"T_f0be9_row12_col5\" class=\"data row12 col5\" >0.2199</td>\n",
       "      <td id=\"T_f0be9_row12_col6\" class=\"data row12 col6\" >0.2211</td>\n",
       "      <td id=\"T_f0be9_row12_col7\" class=\"data row12 col7\" >0.0200</td>\n",
       "    </tr>\n",
       "    <tr>\n",
       "      <th id=\"T_f0be9_level0_row13\" class=\"row_heading level0 row13\" >lar</th>\n",
       "      <td id=\"T_f0be9_row13_col0\" class=\"data row13 col0\" >Least Angle Regression</td>\n",
       "      <td id=\"T_f0be9_row13_col1\" class=\"data row13 col1\" >1.0923</td>\n",
       "      <td id=\"T_f0be9_row13_col2\" class=\"data row13 col2\" >1.8972</td>\n",
       "      <td id=\"T_f0be9_row13_col3\" class=\"data row13 col3\" >1.3771</td>\n",
       "      <td id=\"T_f0be9_row13_col4\" class=\"data row13 col4\" >0.2408</td>\n",
       "      <td id=\"T_f0be9_row13_col5\" class=\"data row13 col5\" >0.2202</td>\n",
       "      <td id=\"T_f0be9_row13_col6\" class=\"data row13 col6\" >0.2214</td>\n",
       "      <td id=\"T_f0be9_row13_col7\" class=\"data row13 col7\" >0.0220</td>\n",
       "    </tr>\n",
       "    <tr>\n",
       "      <th id=\"T_f0be9_level0_row14\" class=\"row_heading level0 row14\" >en</th>\n",
       "      <td id=\"T_f0be9_row14_col0\" class=\"data row14 col0\" >Elastic Net</td>\n",
       "      <td id=\"T_f0be9_row14_col1\" class=\"data row14 col1\" >1.1246</td>\n",
       "      <td id=\"T_f0be9_row14_col2\" class=\"data row14 col2\" >2.0242</td>\n",
       "      <td id=\"T_f0be9_row14_col3\" class=\"data row14 col3\" >1.4224</td>\n",
       "      <td id=\"T_f0be9_row14_col4\" class=\"data row14 col4\" >0.1900</td>\n",
       "      <td id=\"T_f0be9_row14_col5\" class=\"data row14 col5\" >0.2290</td>\n",
       "      <td id=\"T_f0be9_row14_col6\" class=\"data row14 col6\" >0.2326</td>\n",
       "      <td id=\"T_f0be9_row14_col7\" class=\"data row14 col7\" >0.0200</td>\n",
       "    </tr>\n",
       "    <tr>\n",
       "      <th id=\"T_f0be9_level0_row15\" class=\"row_heading level0 row15\" >lasso</th>\n",
       "      <td id=\"T_f0be9_row15_col0\" class=\"data row15 col0\" >Lasso Regression</td>\n",
       "      <td id=\"T_f0be9_row15_col1\" class=\"data row15 col1\" >1.1341</td>\n",
       "      <td id=\"T_f0be9_row15_col2\" class=\"data row15 col2\" >2.0810</td>\n",
       "      <td id=\"T_f0be9_row15_col3\" class=\"data row15 col3\" >1.4423</td>\n",
       "      <td id=\"T_f0be9_row15_col4\" class=\"data row15 col4\" >0.1673</td>\n",
       "      <td id=\"T_f0be9_row15_col5\" class=\"data row15 col5\" >0.2322</td>\n",
       "      <td id=\"T_f0be9_row15_col6\" class=\"data row15 col6\" >0.2358</td>\n",
       "      <td id=\"T_f0be9_row15_col7\" class=\"data row15 col7\" >0.1110</td>\n",
       "    </tr>\n",
       "    <tr>\n",
       "      <th id=\"T_f0be9_level0_row16\" class=\"row_heading level0 row16\" >llar</th>\n",
       "      <td id=\"T_f0be9_row16_col0\" class=\"data row16 col0\" >Lasso Least Angle Regression</td>\n",
       "      <td id=\"T_f0be9_row16_col1\" class=\"data row16 col1\" >1.2204</td>\n",
       "      <td id=\"T_f0be9_row16_col2\" class=\"data row16 col2\" >2.5013</td>\n",
       "      <td id=\"T_f0be9_row16_col3\" class=\"data row16 col3\" >1.5812</td>\n",
       "      <td id=\"T_f0be9_row16_col4\" class=\"data row16 col4\" >-0.0008</td>\n",
       "      <td id=\"T_f0be9_row16_col5\" class=\"data row16 col5\" >0.2501</td>\n",
       "      <td id=\"T_f0be9_row16_col6\" class=\"data row16 col6\" >0.2548</td>\n",
       "      <td id=\"T_f0be9_row16_col7\" class=\"data row16 col7\" >0.0190</td>\n",
       "    </tr>\n",
       "    <tr>\n",
       "      <th id=\"T_f0be9_level0_row17\" class=\"row_heading level0 row17\" >dummy</th>\n",
       "      <td id=\"T_f0be9_row17_col0\" class=\"data row17 col0\" >Dummy Regressor</td>\n",
       "      <td id=\"T_f0be9_row17_col1\" class=\"data row17 col1\" >1.2204</td>\n",
       "      <td id=\"T_f0be9_row17_col2\" class=\"data row17 col2\" >2.5013</td>\n",
       "      <td id=\"T_f0be9_row17_col3\" class=\"data row17 col3\" >1.5812</td>\n",
       "      <td id=\"T_f0be9_row17_col4\" class=\"data row17 col4\" >-0.0008</td>\n",
       "      <td id=\"T_f0be9_row17_col5\" class=\"data row17 col5\" >0.2501</td>\n",
       "      <td id=\"T_f0be9_row17_col6\" class=\"data row17 col6\" >0.2548</td>\n",
       "      <td id=\"T_f0be9_row17_col7\" class=\"data row17 col7\" >0.0170</td>\n",
       "    </tr>\n",
       "    <tr>\n",
       "      <th id=\"T_f0be9_level0_row18\" class=\"row_heading level0 row18\" >par</th>\n",
       "      <td id=\"T_f0be9_row18_col0\" class=\"data row18 col0\" >Passive Aggressive Regressor</td>\n",
       "      <td id=\"T_f0be9_row18_col1\" class=\"data row18 col1\" >1.8780</td>\n",
       "      <td id=\"T_f0be9_row18_col2\" class=\"data row18 col2\" >5.7811</td>\n",
       "      <td id=\"T_f0be9_row18_col3\" class=\"data row18 col3\" >2.3417</td>\n",
       "      <td id=\"T_f0be9_row18_col4\" class=\"data row18 col4\" >-1.3269</td>\n",
       "      <td id=\"T_f0be9_row18_col5\" class=\"data row18 col5\" >0.3572</td>\n",
       "      <td id=\"T_f0be9_row18_col6\" class=\"data row18 col6\" >0.3374</td>\n",
       "      <td id=\"T_f0be9_row18_col7\" class=\"data row18 col7\" >0.0380</td>\n",
       "    </tr>\n",
       "  </tbody>\n",
       "</table>\n"
      ],
      "text/plain": [
       "<pandas.io.formats.style.Styler at 0x7f970ede02e0>"
      ]
     },
     "metadata": {},
     "output_type": "display_data"
    },
    {
     "data": {
      "text/plain": [
       "XGBRegressor(base_score=0.5, booster='gbtree', callbacks=None,\n",
       "             colsample_bylevel=1, colsample_bynode=1, colsample_bytree=1,\n",
       "             early_stopping_rounds=None, enable_categorical=False,\n",
       "             eval_metric=None, gamma=0, gpu_id=-1, grow_policy='depthwise',\n",
       "             importance_type=None, interaction_constraints='',\n",
       "             learning_rate=0.300000012, max_bin=256, max_cat_to_onehot=4,\n",
       "             max_delta_step=0, max_depth=6, max_leaves=0, min_child_weight=1,\n",
       "             missing=nan, monotone_constraints='()', n_estimators=100,\n",
       "             n_jobs=-1, num_parallel_tree=1, objective='reg:squarederror',\n",
       "             predictor='auto', random_state=8905, reg_alpha=0, ...)"
      ]
     },
     "execution_count": 11,
     "metadata": {},
     "output_type": "execute_result"
    }
   ],
   "source": [
    "compare_models()"
   ]
  },
  {
   "cell_type": "code",
   "execution_count": null,
   "id": "a82a2ddb",
   "metadata": {},
   "outputs": [],
   "source": [
    "xgboost, catboost, lightgbm, rf, dt"
   ]
  },
  {
   "cell_type": "markdown",
   "id": "a107bf9e",
   "metadata": {},
   "source": [
    "# _Hyper-parameter Optimization_"
   ]
  },
  {
   "cell_type": "markdown",
   "id": "31a2655e",
   "metadata": {},
   "source": [
    "#### _KFold cross-validation_"
   ]
  },
  {
   "cell_type": "code",
   "execution_count": 15,
   "id": "4d9fe263",
   "metadata": {},
   "outputs": [],
   "source": [
    "kf = KFold(n_splits=10)"
   ]
  },
  {
   "cell_type": "markdown",
   "id": "2a07f938",
   "metadata": {},
   "source": [
    "## _Initializing Trial Functions_"
   ]
  },
  {
   "cell_type": "markdown",
   "id": "19521a26",
   "metadata": {},
   "source": [
    "###### Models are performing really well without any hyper-parameter optimization. Hence using the base models."
   ]
  },
  {
   "cell_type": "markdown",
   "id": "78682c29",
   "metadata": {},
   "source": [
    "'''Decision Tree'''\n",
    "def dt_objective(trial):\n",
    "    max_depth = trial.suggest_int('max_depth', 5, 16)\n",
    "    min_samples_split = trial.suggest_int('min_sample_split', 2, 10)\n",
    "    \n",
    "    \n",
    "    model = RandomForestRegressor(\n",
    "        max_depth=max_depth,\n",
    "        min_samples_split=min_samples_split\n",
    "    )\n",
    "    \n",
    "    \n",
    "    model.fit(X_train_scaled, y_train)\n",
    "    \n",
    "    cv_scores = np.sqrt(-cross_val_score(model, X_train_scaled, y_train, scoring='neg_mean_squared_error', cv=kf))\n",
    "    \n",
    "    return np.mean(cv_scores)\n",
    "\n",
    "\n",
    "'''XGBoost'''\n",
    "def xgb_objective(trial):\n",
    "    n_estimators = trial.suggest_int('n_estimators', 5, 150)\n",
    "    learning_rate = trial.suggest_loguniform('learning_rate', 1e-8, 0.999)\n",
    "    \n",
    "    model = XGBRegressor(\n",
    "        n_estimators=n_estimators,\n",
    "        learning_rate=learning_rate\n",
    "    )\n",
    "    \n",
    "        \n",
    "    model.fit(X_train_scaled, y_train)\n",
    "    \n",
    "    cv_scores = np.sqrt(-cross_val_score(model, X_train_scaled, y_train, scoring='neg_mean_squared_error', cv=kf))\n",
    "    \n",
    "    return np.mean(cv_scores)\n",
    "\n",
    "\n",
    "\n",
    "'''CatBoost'''\n",
    "def catboost_objective(trial):\n",
    "    iterations = trial.suggest_int('iterations', 50, 600)\n",
    "    learning_rate = trial.suggest_loguniform('learning_rate', 1e-8, 0.999)\n",
    "    depth = trial.suggest_int('depth', 2, 16)\n",
    "    \n",
    "    model = CatBoostRegressor(\n",
    "        iterations=iterations,\n",
    "        learning_rate=learning_rate,\n",
    "        depth=depth\n",
    "    )\n",
    "    \n",
    "        \n",
    "    model.fit(X_train_scaled, y_train)\n",
    "    \n",
    "    cv_scores = np.sqrt(-cross_val_score(model, X_train_scaled, y_train, scoring='neg_mean_squared_error', cv=kf))\n",
    "    \n",
    "    return np.mean(cv_scores)\n",
    "\n",
    "\n",
    "\n",
    "'''LGBM'''\n",
    "def lgbm_objective(trial):\n",
    "    num_leaves = trial.suggest_int('num_leaves', 5, 50)\n",
    "    n_estimators = trial.suggest_int('n_estimators', 5, 150)\n",
    "    learning_rate = trial.suggest_loguniform('learning_rate', 1e-8, 0.999)\n",
    "    \n",
    "    model = LGBMRegressor(\n",
    "        num_leaves=num_leaves,\n",
    "        n_estimators=n_estimators,\n",
    "        learning_rate=learning_rate,\n",
    "    )\n",
    "    \n",
    "        \n",
    "    model.fit(X_train_scaled, y_train)\n",
    "    \n",
    "    cv_scores = np.sqrt(-cross_val_score(model, X_train_scaled, y_train, scoring='neg_mean_squared_error', cv=kf))\n",
    "    \n",
    "    return np.mean(cv_scores)\n",
    "\n",
    "\n",
    "\n",
    "'''Random Forest'''\n",
    "def rf_objective(trial):\n",
    "    n_estimators = trial.suggest_int('n_estimators', 5, 150)\n",
    "    min_samples_split = trial.suggest_int('min_samples_split', 2, 10)\n",
    "    \n",
    "    model = RandomForestRegressor(\n",
    "        n_estimators=n_estimators, \n",
    "        min_samples_split=min_samples_split\n",
    "    )\n",
    "    \n",
    "        \n",
    "    model.fit(X_train_scaled, y_train)\n",
    "    \n",
    "    cv_scores = np.sqrt(-cross_val_score(model, X_train_scaled, y_train, scoring='neg_mean_squared_error', cv=kf))\n",
    "    \n",
    "    return np.mean(cv_scores)"
   ]
  },
  {
   "cell_type": "markdown",
   "id": "1150d3c4",
   "metadata": {},
   "source": [
    "### _Studying Model Parameters_"
   ]
  },
  {
   "cell_type": "markdown",
   "id": "36d416a3",
   "metadata": {},
   "source": [
    "study_dt = optuna.create_study(direction='minimize')\n",
    "study_dt.optimize(dt_objective, n_trials=100)"
   ]
  },
  {
   "cell_type": "markdown",
   "id": "962dc3e8",
   "metadata": {},
   "source": [
    "study_xgb = optuna.create_study(direction='minimize')\n",
    "study_xgb.optimize(xgb_objective, n_trials=100)"
   ]
  },
  {
   "cell_type": "markdown",
   "id": "8041ee0e",
   "metadata": {},
   "source": [
    "study_catboost = optuna.create_study(direction='minimize')\n",
    "study_catboost.optimize(catboost_objective, n_trials=100)"
   ]
  },
  {
   "cell_type": "markdown",
   "id": "76348630",
   "metadata": {},
   "source": [
    "study_lgbm = optuna.create_study(direction='minimize')\n",
    "study_lgbm.optimize(lgbm_objective, n_trials=100)"
   ]
  },
  {
   "cell_type": "markdown",
   "id": "f25129ec",
   "metadata": {},
   "source": [
    "study_rf = optuna.create_study(direction='minimize')\n",
    "study_rf.optimize(rf_objective, n_trials=100)"
   ]
  },
  {
   "cell_type": "markdown",
   "id": "b792e104",
   "metadata": {},
   "source": [
    "# _Boosting Models_"
   ]
  },
  {
   "cell_type": "code",
   "execution_count": 135,
   "id": "b7273276",
   "metadata": {},
   "outputs": [],
   "source": [
    "models = {\n",
    "    'CatBoost' : CatBoostRegressor(verbose=0, random_state=14),\n",
    "    'Decision Tree' : DecisionTreeRegressor(random_state=14),\n",
    "    'XGBoost' : XGBRegressor(random_state=14),\n",
    "    'LightGBM' : LGBMRegressor(random_state=14),\n",
    "    'Random Forest' : RandomForestRegressor(random_state=14)\n",
    "}"
   ]
  },
  {
   "cell_type": "code",
   "execution_count": 151,
   "id": "c844cf60",
   "metadata": {},
   "outputs": [
    {
     "name": "stdout",
     "output_type": "stream",
     "text": [
      "CatBoost trained.\n",
      "Decision Tree trained.\n",
      "XGBoost trained.\n",
      "LightGBM trained.\n",
      "Random Forest trained.\n"
     ]
    }
   ],
   "source": [
    "for name, model in models.items():\n",
    "    model.fit(X_train_scaled, y_train)\n",
    "    print(name + \" trained.\")"
   ]
  },
  {
   "cell_type": "markdown",
   "id": "f026baf9",
   "metadata": {},
   "source": [
    "### _KFold Cross Validation Results_"
   ]
  },
  {
   "cell_type": "markdown",
   "id": "7970b27a",
   "metadata": {},
   "source": [
    "results = {}\n",
    "\n",
    "for name, model in models.items():\n",
    "    result = np.sqrt(-cross_val_score(model, X_train_scaled, y_train, scoring='neg_mean_squared_error', cv=kf))\n",
    "    results[name] = result\n",
    "\n",
    "    \n",
    "for name, result in results.items():\n",
    "    print(f'{name} : {np.mean(result)} \\n-------------\\n')"
   ]
  },
  {
   "cell_type": "markdown",
   "id": "3c71b632",
   "metadata": {},
   "source": [
    "# _Combine Results_"
   ]
  },
  {
   "cell_type": "code",
   "execution_count": 152,
   "id": "40dcfc62",
   "metadata": {},
   "outputs": [],
   "source": [
    "y_pred = (\n",
    "    0.3 * (models['CatBoost'].predict(X_test_scaled)) +\n",
    "    0.3 * (models['XGBoost'].predict(X_test_scaled)) +\n",
    "    0.2 * (models['LightGBM'].predict(X_test_scaled)) +\n",
    "    0.1 * (models['Random Forest'].predict(X_test_scaled)) +\n",
    "    0.1 * (models['Decision Tree'].predict(X_test_scaled))\n",
    ")"
   ]
  },
  {
   "cell_type": "code",
   "execution_count": 153,
   "id": "ec583869",
   "metadata": {},
   "outputs": [
    {
     "data": {
      "text/plain": [
       "124"
      ]
     },
     "execution_count": 153,
     "metadata": {},
     "output_type": "execute_result"
    }
   ],
   "source": [
    "len(X_train_scaled.columns)"
   ]
  },
  {
   "cell_type": "markdown",
   "id": "95e70026",
   "metadata": {},
   "source": [
    "# _Lift Chart_"
   ]
  },
  {
   "cell_type": "code",
   "execution_count": 154,
   "id": "c12c5b66",
   "metadata": {},
   "outputs": [
    {
     "name": "stdout",
     "output_type": "stream",
     "text": [
      "RMSE : 0.17300990086661655\n",
      "MAE :  0.0675454520858069\n"
     ]
    },
    {
     "data": {
      "text/plain": [
       "<matplotlib.legend.Legend at 0x7f9600e3ed90>"
      ]
     },
     "execution_count": 154,
     "metadata": {},
     "output_type": "execute_result"
    },
    {
     "data": {
      "image/png": "[encoded data removed]",
      "text/plain": [
       "<Figure size 800x600 with 1 Axes>"
      ]
     },
     "metadata": {},
     "output_type": "display_data"
    }
   ],
   "source": [
    "y_test_list = y_test.values\n",
    "\n",
    "print(f'RMSE : {np.sqrt(mean_squared_error(y_true=y_test, y_pred=y_pred))}')\n",
    "print(f'MAE :  {mean_absolute_error(y_true=y_test, y_pred=y_pred)}')\n",
    "\n",
    "df = pd.DataFrame({'pred' : y_pred.flatten(), 'y' : y_test_list.flatten()})\n",
    "df = df.sort_values('y')\n",
    "plt.figure('figsize', (8,6))\n",
    "plt.plot(df['y'].to_list(), label='expected')\n",
    "plt.plot(df['pred'].to_list(), label='predicted')\n",
    "\n",
    "plt.legend()"
   ]
  },
  {
   "cell_type": "markdown",
   "id": "e3ae7f8b",
   "metadata": {},
   "source": [
    "# _Final Predictions_"
   ]
  },
  {
   "cell_type": "markdown",
   "id": "c064370b",
   "metadata": {},
   "source": [
    "### _Import Data_"
   ]
  },
  {
   "cell_type": "code",
   "execution_count": 82,
   "id": "0e338058",
   "metadata": {},
   "outputs": [],
   "source": [
    "test = pd.read_csv('test_final.csv')\n",
    "train = pd.read_csv('train_final.csv')"
   ]
  },
  {
   "cell_type": "markdown",
   "id": "455f2c22",
   "metadata": {},
   "source": [
    "### _Scaling the Data_"
   ]
  },
  {
   "cell_type": "code",
   "execution_count": 83,
   "id": "249d011e",
   "metadata": {},
   "outputs": [],
   "source": [
    "train['days'] = QScaler.fit_transform(np.array(train['days'].values).reshape(-1,1))\n",
    "test['days'] = QScaler.transform(np.array(test['days'].values).reshape(-1,1))\n",
    "\n",
    "train['effectivity'] = QScaler.fit_transform(np.array(train['effectivity'].values).reshape(-1,1))\n",
    "test['effectivity'] = QScaler.transform(np.array(test['effectivity'].values).reshape(-1,1))\n",
    "\n",
    "\n",
    "train['number_of_times_prescribed'] = QScaler.fit_transform(np.array(train['number_of_times_prescribed'].values).reshape(-1,1))\n",
    "test['number_of_times_prescribed'] = QScaler.transform(np.array(test['number_of_times_prescribed'].values).reshape(-1,1))\n",
    "\n",
    "train['effectiveness_rating'] = QScaler.fit_transform(np.array(train['effectiveness_rating'].values).reshape(-1,1))\n",
    "test['effectiveness_rating'] = QScaler.transform(np.array(test['effectiveness_rating'].values).reshape(-1,1))"
   ]
  },
  {
   "cell_type": "markdown",
   "id": "dd700a03",
   "metadata": {},
   "source": [
    "### _Splitting Training data and Target_"
   ]
  },
  {
   "cell_type": "code",
   "execution_count": 100,
   "id": "ab33a871",
   "metadata": {
    "scrolled": true
   },
   "outputs": [],
   "source": [
    "train_final = train.drop(['patient_id', 'drug_approved_by_UIC', 'base_score', 'date'], axis=1)\n",
    "target = train['base_score']\n",
    "\n",
    "test_final = test.drop(['patient_id', 'drug_approved_by_UIC', 'base_score', 'date'], axis=1)"
   ]
  },
  {
   "cell_type": "code",
   "execution_count": 101,
   "id": "d979c355",
   "metadata": {},
   "outputs": [
    {
     "data": {
      "text/plain": [
       "(125, 125)"
      ]
     },
     "execution_count": 101,
     "metadata": {},
     "output_type": "execute_result"
    }
   ],
   "source": [
    "len(train_final.columns), len(test_final.columns)"
   ]
  },
  {
   "cell_type": "markdown",
   "id": "a1f6843f",
   "metadata": {},
   "source": [
    "#### _Extracting Patient IDs_"
   ]
  },
  {
   "cell_type": "code",
   "execution_count": 112,
   "id": "598fed4b",
   "metadata": {},
   "outputs": [],
   "source": [
    "ids = test['patient_id'].to_list()"
   ]
  },
  {
   "cell_type": "markdown",
   "id": "e39ec5c4",
   "metadata": {},
   "source": [
    "### _Training Models_"
   ]
  },
  {
   "cell_type": "code",
   "execution_count": 102,
   "id": "73a92d6b",
   "metadata": {},
   "outputs": [
    {
     "name": "stdout",
     "output_type": "stream",
     "text": [
      "CatBoost trained.\n",
      "Decision Tree trained.\n",
      "XGBoost trained.\n",
      "LightGBM trained.\n",
      "Random Forest trained.\n"
     ]
    }
   ],
   "source": [
    "models = {\n",
    "    'CatBoost' : CatBoostRegressor(verbose=0, random_state=14),\n",
    "    'Decision Tree' : DecisionTreeRegressor(random_state=14),\n",
    "    'XGBoost' : XGBRegressor(random_state=14),\n",
    "    'LightGBM' : LGBMRegressor(random_state=14),\n",
    "    'Random Forest' : RandomForestRegressor(random_state=14)\n",
    "}\n",
    "\n",
    "for name, model in models.items():\n",
    "    model.fit(train_final, target)\n",
    "    print(name + \" trained.\")"
   ]
  },
  {
   "cell_type": "markdown",
   "id": "c56fda90",
   "metadata": {},
   "source": [
    "# _Final Predictions_"
   ]
  },
  {
   "cell_type": "code",
   "execution_count": 103,
   "id": "81434081",
   "metadata": {},
   "outputs": [],
   "source": [
    "final_predictions = (\n",
    "    0.3 * (models['CatBoost'].predict(test_final)) +\n",
    "    0.3 * (models['XGBoost'].predict(test_final)) +\n",
    "    0.2 * (models['LightGBM'].predict(test_final)) +\n",
    "    0.1 * (models['Random Forest'].predict(test_final)) +\n",
    "    0.1 * (models['Decision Tree'].predict(test_final))\n",
    ")"
   ]
  },
  {
   "cell_type": "markdown",
   "id": "e27c7d65",
   "metadata": {},
   "source": [
    "# _Submission_"
   ]
  },
  {
   "cell_type": "code",
   "execution_count": 124,
   "id": "93c4cf57",
   "metadata": {},
   "outputs": [],
   "source": [
    "Submission = pd.DataFrame(dict(zip(ids, final_predictions)), index=[0]).T.reset_index()\n",
    "Submission.columns = ['patient_id', 'base_score']"
   ]
  },
  {
   "cell_type": "code",
   "execution_count": 128,
   "id": "00c57c81",
   "metadata": {},
   "outputs": [],
   "source": [
    "Submission.to_csv('Submission.csv', index=False)"
   ]
  }
 ],
 "metadata": {
  "kernelspec": {
   "display_name": "Python 3 (ipykernel)",
   "language": "python",
   "name": "python3"
  },
  "language_info": {
   "codemirror_mode": {
    "name": "ipython",
    "version": 3
   },
   "file_extension": ".py",
   "mimetype": "text/x-python",
   "name": "python",
   "nbconvert_exporter": "python",
   "pygments_lexer": "ipython3",
   "version": "3.9.12"
  }
 },
 "nbformat": 4,
 "nbformat_minor": 5
}
