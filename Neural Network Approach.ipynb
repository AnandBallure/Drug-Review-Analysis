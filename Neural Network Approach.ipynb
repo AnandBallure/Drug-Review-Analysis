{
 "cells": [
  {
   "cell_type": "markdown",
   "id": "4c0ec6bd",
   "metadata": {},
   "source": [
    "# _Importing Dependencies_"
   ]
  },
  {
   "cell_type": "code",
   "execution_count": 1,
   "id": "599e42a6",
   "metadata": {},
   "outputs": [
    {
     "name": "stderr",
     "output_type": "stream",
     "text": [
      "2022-10-31 21:06:49.763181: I tensorflow/core/platform/cpu_feature_guard.cc:193] This TensorFlow binary is optimized with oneAPI Deep Neural Network Library (oneDNN) to use the following CPU instructions in performance-critical operations:  AVX2 FMA\n",
      "To enable them in other operations, rebuild TensorFlow with the appropriate compiler flags.\n",
      "2022-10-31 21:06:50.095566: W tensorflow/stream_executor/platform/default/dso_loader.cc:64] Could not load dynamic library 'libcudart.so.11.0'; dlerror: libcudart.so.11.0: cannot open shared object file: No such file or directory\n",
      "2022-10-31 21:06:50.095606: I tensorflow/stream_executor/cuda/cudart_stub.cc:29] Ignore above cudart dlerror if you do not have a GPU set up on your machine.\n",
      "2022-10-31 21:06:50.134659: E tensorflow/stream_executor/cuda/cuda_blas.cc:2981] Unable to register cuBLAS factory: Attempting to register factory for plugin cuBLAS when one has already been registered\n",
      "2022-10-31 21:06:51.042739: W tensorflow/stream_executor/platform/default/dso_loader.cc:64] Could not load dynamic library 'libnvinfer.so.7'; dlerror: libnvinfer.so.7: cannot open shared object file: No such file or directory\n",
      "2022-10-31 21:06:51.042976: W tensorflow/stream_executor/platform/default/dso_loader.cc:64] Could not load dynamic library 'libnvinfer_plugin.so.7'; dlerror: libnvinfer_plugin.so.7: cannot open shared object file: No such file or directory\n",
      "2022-10-31 21:06:51.042990: W tensorflow/compiler/tf2tensorrt/utils/py_utils.cc:38] TF-TRT Warning: Cannot dlopen some TensorRT libraries. If you would like to use Nvidia GPU with TensorRT, please make sure the missing libraries mentioned above are installed properly.\n",
      "/tmp/ipykernel_25643/3013681390.py:11: DeprecationWarning: `import kerastuner` is deprecated, please use `import keras_tuner`.\n",
      "  from kerastuner.tuners import RandomSearch\n"
     ]
    }
   ],
   "source": [
    "import numpy as np\n",
    "import pandas as pd\n",
    "import matplotlib.pyplot as plt\n",
    "import seaborn as sns\n",
    "\n",
    "import re\n",
    "import string\n",
    "\n",
    "from transformers import pipeline, TFAutoModelForSequenceClassification, AutoTokenizer\n",
    "import tensorflow as tf\n",
    "from kerastuner.tuners import RandomSearch\n",
    "import keras_tuner\n",
    "\n",
    "from sklearn.preprocessing import LabelEncoder\n",
    "\n",
    "from sklearn.preprocessing import RobustScaler, QuantileTransformer\n",
    "from sklearn.model_selection import train_test_split\n",
    "from sklearn.metrics import mean_squared_error"
   ]
  },
  {
   "cell_type": "code",
   "execution_count": 2,
   "id": "7cef9544",
   "metadata": {},
   "outputs": [],
   "source": [
    "train_final = pd.read_csv('train_final.csv')\n",
    "test_final = pd.read_csv('test_final.csv')"
   ]
  },
  {
   "cell_type": "code",
   "execution_count": 3,
   "id": "5060fc2c",
   "metadata": {},
   "outputs": [],
   "source": [
    "X = train_final.drop(['patient_id', 'drug_approved_by_UIC', 'base_score', 'date'], axis=1)\n",
    "y = train_final['base_score']"
   ]
  },
  {
   "cell_type": "code",
   "execution_count": 4,
   "id": "994a44f5",
   "metadata": {},
   "outputs": [],
   "source": [
    "X_train, X_test, y_train, y_test = train_test_split(X, y, test_size=0.2, random_state=14)"
   ]
  },
  {
   "cell_type": "markdown",
   "id": "b0bb216a",
   "metadata": {},
   "source": [
    "# _Scaling the data_"
   ]
  },
  {
   "cell_type": "code",
   "execution_count": 5,
   "id": "2e9936b3",
   "metadata": {},
   "outputs": [],
   "source": [
    "QScaler = QuantileTransformer(output_distribution='normal', n_quantiles=1000)"
   ]
  },
  {
   "cell_type": "markdown",
   "id": "9a97247a",
   "metadata": {},
   "source": [
    "##### Scaled 3 features"
   ]
  },
  {
   "cell_type": "code",
   "execution_count": 6,
   "id": "027e7c88",
   "metadata": {},
   "outputs": [],
   "source": [
    "X_train_scaled = X_train.copy()\n",
    "X_test_scaled = X_test.copy()"
   ]
  },
  {
   "cell_type": "code",
   "execution_count": 9,
   "id": "8060ef53",
   "metadata": {},
   "outputs": [],
   "source": [
    "X_train_scaled['days'] = QScaler.fit_transform(np.array(X_train['days'].values).reshape(-1,1))\n",
    "X_test_scaled['days'] = QScaler.transform(np.array(X_test['days'].values).reshape(-1,1))\n",
    "\n",
    "X_train_scaled['effectivity'] = QScaler.fit_transform(np.array(X_train['effectivity'].values).reshape(-1,1))\n",
    "X_test_scaled['effectivity'] = QScaler.transform(np.array(X_test['effectivity'].values).reshape(-1,1))\n",
    "\n",
    "\n",
    "X_train_scaled['number_of_times_prescribed'] = QScaler.fit_transform(np.array(X_train['number_of_times_prescribed'].values).reshape(-1,1))\n",
    "X_test_scaled['number_of_times_prescribed'] = QScaler.transform(np.array(X_test['number_of_times_prescribed'].values).reshape(-1,1))\n",
    "\n",
    "X_train_scaled['effectiveness_rating'] = QScaler.fit_transform(np.array(X_train['effectiveness_rating'].values).reshape(-1,1))\n",
    "X_test_scaled['effectiveness_rating'] = QScaler.transform(np.array(X_test['effectiveness_rating'].values).reshape(-1,1))"
   ]
  },
  {
   "cell_type": "markdown",
   "id": "b549c5e7",
   "metadata": {},
   "source": [
    "# _Neural Network_"
   ]
  },
  {
   "cell_type": "code",
   "execution_count": 14,
   "id": "4661a0e0",
   "metadata": {},
   "outputs": [],
   "source": [
    "# loss function for the model\n",
    "mse = tf.keras.losses.MeanSquaredError()\n",
    "mae = tf.keras.metrics.MeanAbsoluteError()"
   ]
  },
  {
   "cell_type": "markdown",
   "id": "2f01fc9f",
   "metadata": {},
   "source": [
    "## _Tuning_"
   ]
  },
  {
   "cell_type": "markdown",
   "id": "8588dc83",
   "metadata": {},
   "source": [
    "'''Building neural network'''\n",
    "def build_model(hp): \n",
    "    inputs = tf.keras.Input(shape=(X_train_scaled.shape[1],))\n",
    "    \n",
    "    x = tf.keras.layers.Dense(\n",
    "            hp.Int('Dense_layers', 64, 128, 16), \n",
    "            activation='relu'\n",
    "        )(inputs)\n",
    "    \n",
    "    \n",
    "    for i in range(hp.Int('nlayers', 1, 5)):\n",
    "        \n",
    "        x = tf.keras.layers.Dense(\n",
    "                units=hp.Int(f'layer_{i+1}', 64, 512, 4),\n",
    "                activation=(hp.Choice(f'activation_{i+1}', ['relu', 'tanh']))\n",
    "            )(x)\n",
    "    \n",
    "\n",
    "    outputs = tf.keras.layers.Dense(1, activation='relu')(x)\n",
    "\n",
    "\n",
    "    model = tf.keras.Model(inputs=inputs, outputs=outputs)\n",
    "\n",
    "\n",
    "    '''Compiling model'''\n",
    "    model.compile(optimizer='adam', \n",
    "                        loss=mse, \n",
    "                        metrics=[mae]\n",
    "                       )\n",
    "\n",
    "\n",
    "\n",
    "    print(model.summary())\n",
    "\n",
    "    return model                         "
   ]
  },
  {
   "cell_type": "markdown",
   "id": "e37cf8ab",
   "metadata": {},
   "source": [
    "tuner = RandomSearch(build_model,\n",
    "                     objective=keras_tuner.Objective(\"val_mean_absolute_error\", direction=\"min\"),\n",
    "                     max_trials=5,\n",
    "                     overwrite=True,\n",
    "                    )"
   ]
  },
  {
   "cell_type": "markdown",
   "id": "7ee61b6e",
   "metadata": {},
   "source": [
    "tuner.search(x=X_train_scaled, \n",
    "             y=y_train.values,\n",
    "             batch_size=16,\n",
    "             validation_data=(X_test_scaled, y_test.values))"
   ]
  },
  {
   "cell_type": "markdown",
   "id": "66c4ae07",
   "metadata": {},
   "source": [
    "tuner.results_summary()"
   ]
  },
  {
   "cell_type": "markdown",
   "id": "758559c4",
   "metadata": {},
   "source": [
    "# _Optimized Model_"
   ]
  },
  {
   "cell_type": "code",
   "execution_count": 15,
   "id": "1e5500f8",
   "metadata": {
    "scrolled": false
   },
   "outputs": [
    {
     "name": "stdout",
     "output_type": "stream",
     "text": [
      "Model: \"model_1\"\n",
      "_________________________________________________________________\n",
      " Layer (type)                Output Shape              Param #   \n",
      "=================================================================\n",
      " input_2 (InputLayer)        [(None, 125)]             0         \n",
      "                                                                 \n",
      " dense_7 (Dense)             (None, 128)               16128     \n",
      "                                                                 \n",
      " dense_8 (Dense)             (None, 372)               47988     \n",
      "                                                                 \n",
      " dense_9 (Dense)             (None, 108)               40284     \n",
      "                                                                 \n",
      " dense_10 (Dense)            (None, 84)                9156      \n",
      "                                                                 \n",
      " dense_11 (Dense)            (None, 128)               10880     \n",
      "                                                                 \n",
      " dense_12 (Dense)            (None, 84)                10836     \n",
      "                                                                 \n",
      " dense_13 (Dense)            (None, 1)                 85        \n",
      "                                                                 \n",
      "=================================================================\n",
      "Total params: 135,357\n",
      "Trainable params: 135,357\n",
      "Non-trainable params: 0\n",
      "_________________________________________________________________\n"
     ]
    }
   ],
   "source": [
    "inputs = tf.keras.Input(X_test_scaled.shape[1], )\n",
    "\n",
    "x = tf.keras.layers.Dense(128, activation='relu')(inputs)\n",
    "x = tf.keras.layers.Dense(372, activation='relu')(x)\n",
    "x = tf.keras.layers.Dense(108, activation='tanh')(x)\n",
    "x = tf.keras.layers.Dense(84, activation='tanh')(x)\n",
    "x = tf.keras.layers.Dense(128, activation='tanh')(x)\n",
    "x = tf.keras.layers.Dense(84, activation='tanh')(x)\n",
    "\n",
    "outputs = tf.keras.layers.Dense(1, activation='relu')(x)\n",
    "\n",
    "\n",
    "model_final = tf.keras.Model(inputs=inputs, outputs=outputs)\n",
    "\n",
    "'''Compiling model'''\n",
    "model_final.compile(optimizer='adam', \n",
    "                    loss=mse, \n",
    "                    metrics=[mae]\n",
    "                   )\n",
    "\n",
    "model_final.summary()"
   ]
  },
  {
   "cell_type": "code",
   "execution_count": 16,
   "id": "6109c582",
   "metadata": {
    "scrolled": true
   },
   "outputs": [
    {
     "name": "stdout",
     "output_type": "stream",
     "text": [
      "Epoch 1/100\n",
      "1287/1287 [==============================] - 3s 2ms/step - loss: 1.7973 - mean_absolute_error: 1.0701 - val_loss: 1.3734 - val_mean_absolute_error: 0.9729\n",
      "Epoch 2/100\n",
      "1287/1287 [==============================] - 2s 2ms/step - loss: 1.3180 - mean_absolute_error: 0.9614 - val_loss: 1.2777 - val_mean_absolute_error: 0.9526\n",
      "Epoch 3/100\n",
      "1287/1287 [==============================] - 2s 2ms/step - loss: 1.2199 - mean_absolute_error: 0.9239 - val_loss: 1.2011 - val_mean_absolute_error: 0.9162\n",
      "Epoch 4/100\n",
      "1287/1287 [==============================] - 2s 2ms/step - loss: 1.1439 - mean_absolute_error: 0.8893 - val_loss: 1.1190 - val_mean_absolute_error: 0.8766\n",
      "Epoch 5/100\n",
      "1287/1287 [==============================] - 2s 2ms/step - loss: 1.1199 - mean_absolute_error: 0.8752 - val_loss: 1.1145 - val_mean_absolute_error: 0.8775\n",
      "Epoch 6/100\n",
      "1287/1287 [==============================] - 2s 2ms/step - loss: 1.0859 - mean_absolute_error: 0.8587 - val_loss: 1.0932 - val_mean_absolute_error: 0.8695\n",
      "Epoch 7/100\n",
      "1287/1287 [==============================] - 2s 2ms/step - loss: 1.0627 - mean_absolute_error: 0.8472 - val_loss: 1.0927 - val_mean_absolute_error: 0.8457\n",
      "Epoch 8/100\n",
      "1287/1287 [==============================] - 2s 2ms/step - loss: 1.0346 - mean_absolute_error: 0.8356 - val_loss: 1.0914 - val_mean_absolute_error: 0.8543\n",
      "Epoch 9/100\n",
      "1287/1287 [==============================] - 2s 2ms/step - loss: 0.9995 - mean_absolute_error: 0.8169 - val_loss: 1.0832 - val_mean_absolute_error: 0.8471\n",
      "Epoch 10/100\n",
      "1287/1287 [==============================] - 2s 2ms/step - loss: 0.9847 - mean_absolute_error: 0.8068 - val_loss: 1.0687 - val_mean_absolute_error: 0.8482\n",
      "Epoch 11/100\n",
      "1287/1287 [==============================] - 2s 2ms/step - loss: 0.9676 - mean_absolute_error: 0.7984 - val_loss: 1.0384 - val_mean_absolute_error: 0.8324\n",
      "Epoch 12/100\n",
      "1287/1287 [==============================] - 2s 2ms/step - loss: 0.9804 - mean_absolute_error: 0.8029 - val_loss: 1.1141 - val_mean_absolute_error: 0.8620\n",
      "Epoch 13/100\n",
      "1287/1287 [==============================] - 2s 2ms/step - loss: 0.9591 - mean_absolute_error: 0.7970 - val_loss: 1.1464 - val_mean_absolute_error: 0.8576\n",
      "Epoch 14/100\n",
      "1287/1287 [==============================] - 2s 2ms/step - loss: 0.9503 - mean_absolute_error: 0.7877 - val_loss: 1.0769 - val_mean_absolute_error: 0.8168\n",
      "Epoch 15/100\n",
      "1287/1287 [==============================] - 2s 2ms/step - loss: 0.9359 - mean_absolute_error: 0.7816 - val_loss: 1.0650 - val_mean_absolute_error: 0.8325\n",
      "Epoch 16/100\n",
      "1287/1287 [==============================] - 2s 2ms/step - loss: 0.9067 - mean_absolute_error: 0.7671 - val_loss: 1.1539 - val_mean_absolute_error: 0.8639\n",
      "Epoch 17/100\n",
      "1287/1287 [==============================] - 2s 2ms/step - loss: 0.8952 - mean_absolute_error: 0.7623 - val_loss: 1.0472 - val_mean_absolute_error: 0.8081\n",
      "Epoch 18/100\n",
      "1287/1287 [==============================] - 2s 2ms/step - loss: 0.8893 - mean_absolute_error: 0.7582 - val_loss: 1.0529 - val_mean_absolute_error: 0.8142\n",
      "Epoch 19/100\n",
      "1287/1287 [==============================] - 2s 2ms/step - loss: 0.8750 - mean_absolute_error: 0.7502 - val_loss: 1.0763 - val_mean_absolute_error: 0.8111\n",
      "Epoch 20/100\n",
      "1287/1287 [==============================] - 2s 2ms/step - loss: 0.8860 - mean_absolute_error: 0.7570 - val_loss: 1.0276 - val_mean_absolute_error: 0.8024\n",
      "Epoch 21/100\n",
      "1287/1287 [==============================] - 2s 2ms/step - loss: 0.8562 - mean_absolute_error: 0.7372 - val_loss: 1.0556 - val_mean_absolute_error: 0.8206\n",
      "Epoch 22/100\n",
      "1287/1287 [==============================] - 2s 2ms/step - loss: 0.8496 - mean_absolute_error: 0.7320 - val_loss: 1.0895 - val_mean_absolute_error: 0.8204\n",
      "Epoch 23/100\n",
      "1287/1287 [==============================] - 2s 2ms/step - loss: 0.8464 - mean_absolute_error: 0.7392 - val_loss: 1.1396 - val_mean_absolute_error: 0.8686\n",
      "Epoch 24/100\n",
      "1287/1287 [==============================] - 2s 2ms/step - loss: 0.8446 - mean_absolute_error: 0.7354 - val_loss: 1.0991 - val_mean_absolute_error: 0.8207\n",
      "Epoch 25/100\n",
      "1287/1287 [==============================] - 2s 2ms/step - loss: 0.8372 - mean_absolute_error: 0.7296 - val_loss: 1.0759 - val_mean_absolute_error: 0.8165\n",
      "Epoch 26/100\n",
      "1287/1287 [==============================] - 2s 2ms/step - loss: 0.8334 - mean_absolute_error: 0.7262 - val_loss: 1.0663 - val_mean_absolute_error: 0.8080\n",
      "Epoch 27/100\n",
      "1287/1287 [==============================] - 2s 2ms/step - loss: 0.8187 - mean_absolute_error: 0.7187 - val_loss: 1.0647 - val_mean_absolute_error: 0.8032\n",
      "Epoch 28/100\n",
      "1287/1287 [==============================] - 2s 2ms/step - loss: 0.8082 - mean_absolute_error: 0.7109 - val_loss: 1.0416 - val_mean_absolute_error: 0.8045\n",
      "Epoch 29/100\n",
      "1287/1287 [==============================] - 2s 2ms/step - loss: 0.8101 - mean_absolute_error: 0.7165 - val_loss: 1.0905 - val_mean_absolute_error: 0.8224\n",
      "Epoch 30/100\n",
      "1287/1287 [==============================] - 2s 2ms/step - loss: 0.7877 - mean_absolute_error: 0.7013 - val_loss: 1.0658 - val_mean_absolute_error: 0.7997\n"
     ]
    }
   ],
   "source": [
    "history = model_final.fit(\n",
    "    X_train_scaled,\n",
    "    y_train.values,\n",
    "    validation_split=0.2,\n",
    "    batch_size=16,\n",
    "    epochs=100,\n",
    "    callbacks=[\n",
    "        tf.keras.callbacks.EarlyStopping(\n",
    "            monitor='val_loss',\n",
    "            patience=10,\n",
    "            restore_best_weights=True\n",
    "        )\n",
    "    ]\n",
    ")"
   ]
  },
  {
   "cell_type": "markdown",
   "id": "02caf4ff",
   "metadata": {},
   "source": [
    "# _Results_"
   ]
  },
  {
   "cell_type": "code",
   "execution_count": 17,
   "id": "bb4f4b4c",
   "metadata": {
    "scrolled": false
   },
   "outputs": [
    {
     "name": "stdout",
     "output_type": "stream",
     "text": [
      "201/201 [==============================] - 0s 817us/step\n"
     ]
    },
    {
     "data": {
      "text/plain": [
       "array([[6.2476554],\n",
       "       [4.276334 ],\n",
       "       [6.2272696],\n",
       "       ...,\n",
       "       [7.5737576],\n",
       "       [6.294425 ],\n",
       "       [4.509162 ]], dtype=float32)"
      ]
     },
     "execution_count": 17,
     "metadata": {},
     "output_type": "execute_result"
    }
   ],
   "source": [
    "y_pred = model_final.predict(X_test_scaled)\n",
    "y_pred"
   ]
  },
  {
   "cell_type": "code",
   "execution_count": 22,
   "id": "4b4cf776",
   "metadata": {},
   "outputs": [
    {
     "name": "stdout",
     "output_type": "stream",
     "text": [
      "RSME score : 1.0226226704077346\n",
      "MAE score :  1.5831232070922852\n"
     ]
    }
   ],
   "source": [
    "rmse_score = np.sqrt(mean_squared_error(y_true=y_test, y_pred=y_pred))\n",
    "mae_score = np.mean(tf.keras.metrics.mean_absolute_error(y_true=y_test, y_pred=y_pred))\n",
    "\n",
    "print(f'RSME score : {rmse_score}')\n",
    "print(f'MAE score :  {mae_score}')"
   ]
  }
 ],
 "metadata": {
  "kernelspec": {
   "display_name": "Python 3 (ipykernel)",
   "language": "python",
   "name": "python3"
  },
  "language_info": {
   "codemirror_mode": {
    "name": "ipython",
    "version": 3
   },
   "file_extension": ".py",
   "mimetype": "text/x-python",
   "name": "python",
   "nbconvert_exporter": "python",
   "pygments_lexer": "ipython3",
   "version": "3.9.13"
  }
 },
 "nbformat": 4,
 "nbformat_minor": 5
}
